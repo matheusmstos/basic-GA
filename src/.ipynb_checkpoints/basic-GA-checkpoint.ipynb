{
 "cells": [
  {
   "cell_type": "code",
   "execution_count": 5,
   "metadata": {},
   "outputs": [],
   "source": [
    "import numpy as np\n",
    "from numpy import random"
   ]
  },
  {
   "cell_type": "markdown",
   "metadata": {},
   "source": [
    "# População"
   ]
  },
  {
   "cell_type": "markdown",
   "metadata": {},
   "source": [
    "`Descrição:`"
   ]
  },
  {
   "cell_type": "code",
   "execution_count": 13,
   "metadata": {},
   "outputs": [],
   "source": [
    "def gen_population(n_rows, n_cols, a, b):\n",
    "    '''\n",
    "    This function generates a random populations as a matrix of size n_rows x n_cols and [a,b) values\n",
    "    \n",
    "    INPUT: \n",
    "    n_rows: number of lines\n",
    "    n_cols: number of lines\n",
    "    a: lower interval\n",
    "    b: higher interval\n",
    "    \n",
    "    OUTPUT: \n",
    "    np_population: n_rows x n_cols random numpy array\n",
    "    '''\n",
    "\n",
    "    np_population = (b - a) * random.random_sample((n_rows,n_cols)) + a\n",
    "    return np_population"
   ]
  },
  {
   "cell_type": "markdown",
   "metadata": {},
   "source": [
    "# Seleção"
   ]
  },
  {
   "cell_type": "markdown",
   "metadata": {},
   "source": [
    "`Descrição:`"
   ]
  },
  {
   "cell_type": "markdown",
   "metadata": {},
   "source": [
    "# Crossover"
   ]
  },
  {
   "cell_type": "markdown",
   "metadata": {},
   "source": [
    "`Descrição:`"
   ]
  },
  {
   "cell_type": "markdown",
   "metadata": {},
   "source": [
    "# Mutation"
   ]
  },
  {
   "cell_type": "markdown",
   "metadata": {},
   "source": [
    "`Descrição:`"
   ]
  },
  {
   "cell_type": "code",
   "execution_count": null,
   "metadata": {},
   "outputs": [],
   "source": []
  }
 ],
 "metadata": {
  "kernelspec": {
   "display_name": "Python 3",
   "language": "python",
   "name": "python3"
  },
  "language_info": {
   "codemirror_mode": {
    "name": "ipython",
    "version": 3
   },
   "file_extension": ".py",
   "mimetype": "text/x-python",
   "name": "python",
   "nbconvert_exporter": "python",
   "pygments_lexer": "ipython3",
   "version": "3.6.4"
  }
 },
 "nbformat": 4,
 "nbformat_minor": 2
}
