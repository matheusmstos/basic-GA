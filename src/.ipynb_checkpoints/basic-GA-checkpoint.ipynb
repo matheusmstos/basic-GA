{
 "cells": [
  {
   "cell_type": "markdown",
   "metadata": {},
   "source": [
    "# Resumo Geral"
   ]
  },
  {
   "cell_type": "markdown",
   "metadata": {},
   "source": [
    "`Descrição:` O objetivo principal deste trabalho é criar um Algoritmo Genético o mais genérico possível e, no final de cada geração, determinar pela função de fitness o melhor cromossomo, o pior e a média de toda população para teste de convergência futura.\n",
    "\n",
    "`Parâmetros e Requisitos Gerais:` \n",
    "    - Número de Gerações: Por quantas populações o seu sistema vive.\n",
    "    - Número de Cromossomos: Quantos cromossomos em cada população existem.\n",
    "    - Função de Aptidão: Qual a função que define e avalia o seu sistema, que determina se aquele valor é ótimo ou não. Como os problemas utilizados aqui são problemas de otimização, a própria função de otimização é a função de aptidão. \n",
    "    - Taxa de Crossover: A taxa de crossover é um valor no intervalo fechado [0,1], sendo um parâmetro, inicialmente fixado em 0,7, para determinar se há cruzamento ou não, gera-se um número aleatório nesse intervalo, se ele for <= 0,7, há o que chamamos de cruzamento, baseado em crossover aritmético. Esse valor aleatório é determinado por casais. Se não há cruzamento, os pais são perpetuados para a geração seguinte e os pais anteriores são mortos.\n",
    "    - Taxa de Mutação: A taxa de mutação é um valor no intervalo fechado [0,1], sendo um parâmetro, inicialmente fixado em 0,1 e para determinar se há mutação ou não, gera-se um número aleatório e se ele for <= 0,1 o valor é mutado em torno de um número próximo ao valor do atributo atual. Lembrando que esse teste de mutação é gerado por CADA atributo de CADA cromossomo."
   ]
  },
  {
   "cell_type": "markdown",
   "metadata": {},
   "source": [
    "# População"
   ]
  },
  {
   "cell_type": "markdown",
   "metadata": {},
   "source": [
    "`Descrição:` "
   ]
  },
  {
   "cell_type": "markdown",
   "metadata": {},
   "source": [
    "# Seleção"
   ]
  },
  {
   "cell_type": "markdown",
   "metadata": {},
   "source": [
    "`Descrição:`"
   ]
  },
  {
   "cell_type": "markdown",
   "metadata": {},
   "source": [
    "# Crossover"
   ]
  },
  {
   "cell_type": "markdown",
   "metadata": {},
   "source": [
    "`Descrição:`"
   ]
  },
  {
   "cell_type": "markdown",
   "metadata": {},
   "source": [
    "# Mutação"
   ]
  },
  {
   "cell_type": "markdown",
   "metadata": {},
   "source": [
    "`Descrição:`"
   ]
  },
  {
   "cell_type": "markdown",
   "metadata": {},
   "source": [
    "# Análise de convergência"
   ]
  },
  {
   "cell_type": "markdown",
   "metadata": {},
   "source": [
    "`Descrição:` Na parte de convergência, após descobrir o melhor e o pior cromossomo e a média geral da população, realizar um gráfico de Aptidão (Eixo Y) e Gerações (Eixo X), para determinar se o algoritmo converge ou não."
   ]
  }
 ],
 "metadata": {
  "kernelspec": {
   "display_name": "Python 3",
   "language": "python",
   "name": "python3"
  },
  "language_info": {
   "codemirror_mode": {
    "name": "ipython",
    "version": 3
   },
   "file_extension": ".py",
   "mimetype": "text/x-python",
   "name": "python",
   "nbconvert_exporter": "python",
   "pygments_lexer": "ipython3",
   "version": "3.6.4"
  }
 },
 "nbformat": 4,
 "nbformat_minor": 2
}
